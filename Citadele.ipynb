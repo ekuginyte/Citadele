{
 "cells": [
  {
   "cell_type": "code",
   "execution_count": 1,
   "metadata": {},
   "outputs": [],
   "source": [
    "import pandas as pd"
   ]
  },
  {
   "cell_type": "code",
   "execution_count": 5,
   "metadata": {},
   "outputs": [],
   "source": [
    "data = pd.read_csv('./dataset.csv')"
   ]
  },
  {
   "cell_type": "code",
   "execution_count": 10,
   "metadata": {},
   "outputs": [
    {
     "name": "stdout",
     "output_type": "stream",
     "text": [
      "<class 'pandas.core.frame.DataFrame'>\n",
      "RangeIndex: 67463 entries, 0 to 67462\n",
      "Data columns (total 35 columns):\n",
      " #   Column                        Non-Null Count  Dtype  \n",
      "---  ------                        --------------  -----  \n",
      " 0   ID                            67463 non-null  int64  \n",
      " 1   Loan Amount                   67463 non-null  int64  \n",
      " 2   Funded Amount                 67463 non-null  int64  \n",
      " 3   Funded Amount Investor        67463 non-null  float64\n",
      " 4   Term                          67463 non-null  int64  \n",
      " 5   Batch Enrolled                67463 non-null  object \n",
      " 6   Interest Rate                 67463 non-null  float64\n",
      " 7   Grade                         67463 non-null  object \n",
      " 8   Sub Grade                     67463 non-null  object \n",
      " 9   Home Ownership                67463 non-null  object \n",
      " 10  Employment Duration           67463 non-null  float64\n",
      " 11  Verification Status           67463 non-null  object \n",
      " 12  Payment Plan                  67463 non-null  object \n",
      " 13  Loan Title                    67463 non-null  object \n",
      " 14  Debt to Income                67463 non-null  float64\n",
      " 15  Delinquency - two years       67463 non-null  int64  \n",
      " 16  Inquires - six months         67463 non-null  int64  \n",
      " 17  Open Account                  67463 non-null  int64  \n",
      " 18  Public Record                 67463 non-null  int64  \n",
      " 19  Revolving Balance             67463 non-null  int64  \n",
      " 20  Revolving Utilities           67463 non-null  float64\n",
      " 21  Total Accounts                67463 non-null  int64  \n",
      " 22  Initial List Status           67463 non-null  object \n",
      " 23  Total Received Interest       67463 non-null  float64\n",
      " 24  Total Received Late Fee       67463 non-null  float64\n",
      " 25  Recoveries                    67463 non-null  float64\n",
      " 26  Collection Recovery Fee       67463 non-null  float64\n",
      " 27  Collection 12 months Medical  67463 non-null  int64  \n",
      " 28  Application Type              67463 non-null  object \n",
      " 29  Last week Pay                 67463 non-null  int64  \n",
      " 30  Accounts Delinquent           67463 non-null  int64  \n",
      " 31  Total Collection Amount       67463 non-null  int64  \n",
      " 32  Total Current Balance         67463 non-null  int64  \n",
      " 33  Total Revolving Credit Limit  67463 non-null  int64  \n",
      " 34  Loan Status                   67463 non-null  int64  \n",
      "dtypes: float64(9), int64(17), object(9)\n",
      "memory usage: 18.0+ MB\n"
     ]
    }
   ],
   "source": [
    "# Check the data structure\n",
    "data.info()\n",
    "\n",
    "# Check if there are any missing values\n",
    "#data.isnull().sum()"
   ]
  },
  {
   "cell_type": "code",
   "execution_count": 13,
   "metadata": {},
   "outputs": [
    {
     "data": {
      "text/plain": [
       "array(['BAT2522922', 'BAT1586599', 'BAT2136391', 'BAT2428731',\n",
       "       'BAT5341619', 'BAT4694572', 'BAT4808022', 'BAT2558388',\n",
       "       'BAT2078974', 'BAT2252229', 'BAT2333412', 'BAT5849876',\n",
       "       'BAT2833642', 'BAT2803411', 'BAT5525466', 'BAT5714674',\n",
       "       'BAT2003848', 'BAT4722912', 'BAT3873588', 'BAT1780517',\n",
       "       'BAT4271519', 'BAT5811547', 'BAT1184694', 'BAT4136152',\n",
       "       'BAT3193689', 'BAT1467036', 'BAT2575549', 'BAT4351734',\n",
       "       'BAT1104812', 'BAT5924421', 'BAT1930365', 'BAT1766061',\n",
       "       'BAT5489674', 'BAT3865626', 'BAT5629144', 'BAT5547201',\n",
       "       'BAT224923', 'BAT3726927', 'BAT3461431', 'BAT1761981',\n",
       "       'BAT1135695'], dtype=object)"
      ]
     },
     "execution_count": 13,
     "metadata": {},
     "output_type": "execute_result"
    }
   ],
   "source": [
    "# The 'object' type variables to be encoded.\n",
    "#   Only the predicting variables: \n",
    "data['Batch Enrolled'].unique()"
   ]
  },
  {
   "cell_type": "code",
   "execution_count": null,
   "metadata": {},
   "outputs": [],
   "source": []
  }
 ],
 "metadata": {
  "kernelspec": {
   "display_name": "base",
   "language": "python",
   "name": "python3"
  },
  "language_info": {
   "codemirror_mode": {
    "name": "ipython",
    "version": 3
   },
   "file_extension": ".py",
   "mimetype": "text/x-python",
   "name": "python",
   "nbconvert_exporter": "python",
   "pygments_lexer": "ipython3",
   "version": "3.9.13"
  },
  "orig_nbformat": 4,
  "vscode": {
   "interpreter": {
    "hash": "1b813af3179b90fac26e0cdce4b0c4b44496125a0715e29f2997305c8ddbb1ab"
   }
  }
 },
 "nbformat": 4,
 "nbformat_minor": 2
}
